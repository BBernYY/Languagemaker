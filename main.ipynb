{
 "cells": [
  {
   "cell_type": "markdown",
   "metadata": {},
   "source": [
    "# Language making program\n",
    "Title speaks for itself"
   ]
  },
  {
   "cell_type": "markdown",
   "metadata": {},
   "source": [
    "## Defining a word\n",
    "A word has a certain amount of syllables: these syllables are built using vowels and consonants flowing from high-to-low-to-high contstrictions (vowels having the least).\n",
    "* `krink`: ✅ word\n",
    "* `rkink`: ❌ not a word\n",
    "> note that in some systems this is not possible, which is why syllable contructions will be set by the user\n",
    "\n",
    "\n",
    "> the format would be `\"%12%2%3%2%12\"` in this case, because the first letter is allowed to be both of high and medium constriction\""
   ]
  },
  {
   "cell_type": "code",
   "execution_count": 1,
   "metadata": {},
   "outputs": [],
   "source": [
    "# This would be a json file\n",
    "lang = {\n",
    "    \"syllable\": \"%12%2%3%2%12\",\n",
    "    \"letters\": {\n",
    "        \"%1\": [\"p\", \"k\", \"t\"],\n",
    "        \"%2\": [\"v\", \"s\"],\n",
    "        \"%3\": [\"i\", \"e\"]\n",
    "    }\n",
    "}"
   ]
  },
  {
   "cell_type": "markdown",
   "metadata": {},
   "source": [
    "### Determining the amount of syllables per word\n",
    "The amount of syllables in a word should preferably be related to either\n",
    "\n",
    "1. The frequency of the word in the language the word is translated from, or\n",
    "2. The amount of syllables of the word in the language it is translated from\n",
    "This connection is generally non-linear, since the amount of possible letters makes for exponentially more possible syllables, leading to shorter optimized words.\n",
    "\n",
    "The best way to do this, is probably to calculate how much information can be stored in each syllable, and then calculate the word based on frequency.\n"
   ]
  },
  {
   "cell_type": "code",
   "execution_count": 81,
   "metadata": {},
   "outputs": [
    {
     "data": {
      "text/plain": [
       "1"
      ]
     },
     "execution_count": 81,
     "metadata": {},
     "output_type": "execute_result"
    }
   ],
   "source": [
    "import re\n",
    "import math\n",
    "import random\n",
    "with open('words.txt') as f:\n",
    "    words = f.read().split(\"\\n\")\n",
    "def calculate_possibilities():\n",
    "    syl = re.split('([!@#$%^&*:;<>,.?~`][0-9]+)', lang['syllable'])\n",
    "    syl = list(filter(('').__ne__, syl))\n",
    "    pos = 1\n",
    "    for i in syl:\n",
    "        pos *= sum([len(lang['letters'][i[0]+j]) for j in list(i[1:])])\n",
    "    return pos\n",
    "    \n",
    "\n",
    "\n",
    "def calculate_syllables(word, n):\n",
    "    if word in words:\n",
    "        freq = math.log(words.index(word))/math.log(n)\n",
    "    else:\n",
    "        freq = math.log(10000)/math.log(n)\n",
    "    freq = math.ceil(freq)\n",
    "    return freq\n",
    "calculate_syllables('and', calculate_possibilities())"
   ]
  },
  {
   "cell_type": "markdown",
   "metadata": {},
   "source": [
    "### Pre- and suffixes\n",
    "It should also be possible to add pre- and suffixes to words, to account for conjugation."
   ]
  }
 ],
 "metadata": {
  "kernelspec": {
   "display_name": "Python 3",
   "language": "python",
   "name": "python3"
  },
  "language_info": {
   "codemirror_mode": {
    "name": "ipython",
    "version": 3
   },
   "file_extension": ".py",
   "mimetype": "text/x-python",
   "name": "python",
   "nbconvert_exporter": "python",
   "pygments_lexer": "ipython3",
   "version": "3.12.1"
  }
 },
 "nbformat": 4,
 "nbformat_minor": 2
}
